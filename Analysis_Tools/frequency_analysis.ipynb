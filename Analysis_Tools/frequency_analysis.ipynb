# %% [markdown]
# # Eddy Current Frequency Analysis
# Characterizes braking dynamics via spectral decomposition
# 
# **Features**:  
# - FFT power spectrum analysis  
# - Resonance peak detection  
# - Energy dissipation calculation  
# - Comparative material analysis

# %%
import numpy as np
import pandas as pd
import matplotlib.pyplot as plt
from scipy.fft import fft, fftfreq
from scipy.signal import find_peaks

# %% [markdown]
# ## 1. Load Dataset
# %%
def load_data(filepath):
    """Load CSV data and compute time array with sampling interval"""
    df = pd.read_csv(filepath)
    t = df['timestamp'] / 1000  # Convert to seconds
    dt = np.mean(np.diff(t))
    return df, t, dt

# %% [markdown]
# ## 2. Spectral Analysis
# %%
def compute_spectrum(signal, dt):
    """Compute single-sided power spectrum using FFT"""
    N = len(signal)
    yf = fft(signal - np.mean(signal))  # Remove DC component
    xf = fftfreq(N, dt)[:N//2]  # Positive frequencies only
    power_spectrum = 2.0/N * np.abs(yf[0:N//2])
    return xf, power_spectrum

# %% [markdown]
# ## 3. Energy Dissipation Calculation
# %%
def braking_energy(acceleration, mass, time):
    """Calculate kinetic energy from acceleration data"""
    # Integrate acceleration to get velocity
    dt = np.gradient(time)
    velocity = np.cumsum(acceleration * dt)
    
    # Remove any initial offset (assume starting from rest)
    velocity = velocity - velocity[0]
    
    # Calculate kinetic energy
    kinetic_energy = 0.5 * mass * velocity**2
    return kinetic_energy

# %% [markdown]
# ## 4. Peak Detection and Analysis
# %%
def find_resonant_peaks(frequencies, power_spectrum, min_prominence=0.1, max_peaks=3):
    """Find and return dominant frequency peaks"""
    peaks, properties = find_peaks(power_spectrum, prominence=min_prominence)
    
    # Sort by prominence and take top peaks
    if len(peaks) > 0:
        sorted_indices = np.argsort(properties['prominences'])[::-1]
        top_peaks = peaks[sorted_indices[:max_peaks]]
        return top_peaks
    return []

# %% [markdown]
# ## 5. Main Analysis Workflow
# %%
def analyze_run(filepath, material, thickness, magnet_strength):
    """Main analysis function for eddy current braking data"""
    try:
        df, t, dt = load_data(filepath)
        mass = 0.5  # kg (car mass)
        
        fig, axs = plt.subplots(3, 1, figsize=(12, 10))
        
        # Time-domain plot
        axs[0].plot(t, df['sensor1_filtered'], 'r-', label='Front Sensor', linewidth=1.5)
        axs[0].plot(t, df['sensor2_filtered'], 'b-', label='Rear Sensor', linewidth=1.5)
        axs[0].set_title(f'Time Domain: {material.capitalize()} {thickness}mm, {magnet_strength}T')
        axs[0].set_ylabel('Acceleration (m/s²)')
        axs[0].legend()
        axs[0].grid(True, alpha=0.3)
        
        # Frequency-domain plot
        colors = ['red', 'blue']
        sensor_labels = ['Front Sensor', 'Rear Sensor']
        
        for i, sensor in enumerate(['sensor1', 'sensor2']):
            xf, yf = compute_spectrum(df[f'{sensor}_filtered'], dt)
            axs[1].semilogy(xf, yf, color=colors[i], label=f'{sensor_labels[i]} PSD', linewidth=1.5)
            
            # Find and annotate dominant peaks
            peaks = find_resonant_peaks(xf, yf)
            for peak_idx in peaks:
                axs[1].annotate(f'{xf[peak_idx]:.1f} Hz', 
                               xy=(xf[peak_idx], yf[peak_idx]),
                               xytext=(10, 10), 
                               textcoords='offset points',
                               bbox=dict(boxstyle='round,pad=0.3', facecolor=colors[i], alpha=0.3),
                               arrowprops=dict(arrowstyle='->', color=colors[i]))
        
        axs[1].set_title('Power Spectral Density')
        axs[1].set_xlabel('Frequency (Hz)')
        axs[1].set_ylabel('Power Spectral Density')
        axs[1].legend()
        axs[1].set_xlim(0, 50)  # Reduced upper limit for better visibility
        axs[1].grid(True, alpha=0.3)
        
        # Energy dissipation plot
        for i, sensor in enumerate(['sensor1', 'sensor2']):
            # Use raw acceleration data for energy calculation
            acceleration = df[f'{sensor}_filtered']
            energy = braking_energy(acceleration, mass, t)
            axs[2].plot(t, energy, color=colors[i], label=f'{sensor_labels[i]}', linewidth=1.5)
        
        axs[2].set_title('Kinetic Energy Evolution')
        axs[2].set_xlabel('Time (s)')
        axs[2].set_ylabel('Kinetic Energy (J)')
        axs[2].legend()
        axs[2].grid(True, alpha=0.3)
        
        plt.tight_layout()
        
        # Save with descriptive filename
        filename = f"{material}_{thickness}mm_{magnet_strength}T_analysis.png"
        plt.savefig(filename, dpi=300, bbox_inches='tight')
        print(f"Analysis complete. Plot saved as {filename}")
        
        return fig
        
    except FileNotFoundError:
        print(f"Error: Could not find file {filepath}")
        return None
    except KeyError as e:
        print(f"Error: Missing column in data - {e}")
        return None
    except Exception as e:
        print(f"Error during analysis: {e}")
        return None

# %% [markdown]
# ## 6. Batch Analysis Function
# %%
def compare_materials(materials_dict):
    """Run comparative analysis for multiple materials"""
    results = {}
    
    for name, (path, conductivity, thickness) in materials_dict.items():
        print(f"\nAnalyzing {name}...")
        fig = analyze_run(path, name, thickness, 0.8)
        if fig is not None:
            results[name] = fig
            
    print(f"\nCompleted analysis for {len(results)} materials")
    return results

# %% [markdown]
# ## Example Usage
# %%
if __name__ == "__main__":
    # Material properties: (filepath, conductivity_MS/m, thickness_mm)
    materials = {
        "copper": ("data/sample_datasets/copper_plate.csv", 58.5, 2.0),
        "aluminum": ("data/sample_datasets/aluminum_braking.csv", 37.7, 2.0)
    }
    
    # Run comparative analysis
    results = compare_materials(materials)
    
    # Display results summary
    if results:
        print("\n" + "="*50)
        print("ANALYSIS SUMMARY")
        print("="*50)
        for material in results.keys():
            print(f"✓ {material.capitalize()} analysis completed")
    
    plt.show()  # Display all plots
