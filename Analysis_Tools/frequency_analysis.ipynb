# %% [markdown]
# # Eddy Current Frequency Analysis
# Characterizes braking dynamics via spectral decomposition
# 
# **Features**:  
# - FFT power spectrum analysis  
# - Resonance peak detection  
# - Energy dissipation calculation  
# - Comparative material analysis

# %%
import numpy as np
import pandas as pd
import matplotlib.pyplot as plt
from scipy.fft import fft, fftfreq
from scipy.signal import find_peaks

# %% [markdown]
# ## 1. Load Dataset
# %%
def load_data(filepath):
    df = pd.read_csv(filepath)
    t = df['timestamp'] / 1000  # Convert to seconds
    dt = np.mean(np.diff(t))
    return df, t, dt

# %% [markdown]
# ## 2. Spectral Analysis
# %%
def compute_spectrum(signal, dt):
    N = len(signal)
    yf = fft(signal - np.mean(signal))
    xf = fftfreq(N, dt)[:N//2]
    return xf, 2.0/N * np.abs(yf[0:N//2])

# %% [markdown]
# ## 3. Energy Dissipation Calculation
# %%
def braking_energy(deceleration, mass, time):
    velocity = np.cumsum(deceleration) * np.gradient(time)
    kinetic_energy = 0.5 * mass * velocity**2
    return kinetic_energy

# %% [markdown]
# ## 4. Main Analysis Workflow
# %%
def analyze_run(filepath, material, thickness, magnet_strength):
    df, t, dt = load_data(filepath)
    mass = 0.5  # kg (car mass)
    
    fig, axs = plt.subplots(3, 1, figsize=(10, 12))
    
    # Time-domain plot
    axs[0].plot(t, df['sensor1_filtered'], 'r-', label='Front Sensor')
    axs[0].plot(t, df['sensor2_filtered'], 'b-', label='Rear Sensor')
    axs[0].set_title(f'Time Domain: {material} {thickness}mm, {magnet_strength}T')
    axs[0].set_ylabel('Acceleration (m/s²)')
    axs[0].legend()
    
    # Frequency-domain plot
    colors = ['red', 'blue']
    for i, sensor in enumerate(['sensor1', 'sensor2']):
        xf, yf = compute_spectrum(df[f'{sensor}_filtered'], dt)
        axs[1].semilogy(xf, yf, color=colors[i], label=f'{sensor} PSD')
        
        # Find dominant peaks
        peaks, _ = find_peaks(yf, prominence=0.1)
        for idx in peaks[:3]:  # Top 3 peaks
            axs[1].annotate(f'{xf[idx]:.1f}Hz', 
                           (xf[idx], yf[idx]),
                           textcoords="offset points",
                           xytext=(0,10), ha='center')
    
    axs[1].set_title('Power Spectral Density')
    axs[1].set_xlabel('Frequency (Hz)')
    axs[1].set_ylabel('Power')
    axs[1].legend()
    axs[1].set_xlim(0, 100)
    
    # Energy plot
    for sensor in ['sensor1', 'sensor2']:
        decel = df[f'{sensor}_filtered'] + 9.81  # Remove gravity
        energy = braking_energy(decel, mass, t)
        axs[2].plot(t, energy, label=f'{sensor} Energy')
    
    axs[2].set_title('Kinetic Energy Dissipation')
    axs[2].set_xlabel('Time (s)')
    axs[2].set_ylabel('Energy (J)')
    axs[2].legend()
    
    plt.tight_layout()
    plt.savefig(f"{material}_analysis.png")
    return fig

# %% [markdown]
# ## Example Usage
# %%
if __name__ == "__main__":
    # Comparative analysis
    materials = {
        "copper": ("data/sample_datasets/copper_plate.csv", 58.5, 2.0),
        "aluminum": ("data/sample_datasets/aluminum_braking.csv", 37.7, 2.0)
    }
    
    for name, (path, sigma, thickness) in materials.items():
        analyze_run(path, name, thickness, 0.8)
